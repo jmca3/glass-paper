{
 "cells": [
  {
   "cell_type": "markdown",
   "metadata": {},
   "source": [
    "# Industrial ecology open online course (IEooc)\n",
    "## IEooc_Methods3_Software1: Dynamic stock modelling\n",
    "\n",
    "Overview of how basic dynamic stock modelling with the Python class dynamic_stock_model works. First the installation of dynamic_stock_model is explained, and then a combination of inflow-driven and stock-driven modelling is demonstraded. For this tutorial the steel stock of China is estimated from historic data on final steel consumption (1900-2008) and then extrapolated with an exogenous saturation scenario (2009-2100)\n",
    "\n",
    "For more info:\n",
    "https://github.com/stefanpauliuk/dynamic_stock_model"
   ]
  },
  {
   "cell_type": "markdown",
   "metadata": {},
   "source": [
    "### 1) Dynamic Stock Modelling in Python - Documentation and Tutorial\n"
   ]
  },
  {
   "cell_type": "markdown",
   "metadata": {},
   "source": [
    "Dynamic models of material and product stocks require standard routines for computation. The dynamic_stock_model package offers a toolbox for computation and modification of dynamic stock models, including inflow-driven (van der Voet 2002) and stock-driven (Müller 2006) modelling.\n",
    "This project is work in progress, and a first, unit-tested version is released on GitHub.\n",
    "Below you find a quick tutorial and demonstration of the central feastures of the class DynamicStockModel."
   ]
  },
  {
   "cell_type": "markdown",
   "metadata": {},
   "source": [
    "### Dependencies"
   ]
  },
  {
   "cell_type": "markdown",
   "metadata": {},
   "source": [
    "Python 3.0 or later <br>\n",
    "numpy<br>\n",
    "scipy<br>\n",
    "matplotlib.pyplot<br>"
   ]
  },
  {
   "cell_type": "markdown",
   "metadata": {},
   "source": [
    "### Installation and import"
   ]
  },
  {
   "cell_type": "markdown",
   "metadata": {},
   "source": [
    "#### a) Installation from the web repository"
   ]
  },
  {
   "cell_type": "markdown",
   "metadata": {},
   "source": [
    "This is the easiest way of installing dynamic\\_stock\\_model. Github hosts an installation package for dynamic\\_stock\\_model, which can be downloaded directly from the command line using pip:\n",
    "\n",
    "    pip install dynamic_stock_model\n"
   ]
  },
  {
   "cell_type": "markdown",
   "metadata": {},
   "source": [
    "#### b) Installation as package"
   ]
  },
  {
   "cell_type": "markdown",
   "metadata": {},
   "source": [
    "Pull the package via git pull or download as .zip file and unpack. Choose a convenient location (Here: 'C:\\MyPythonPackages\\'). Then open a console, change to the directory ../dynamic\\_stock\\_model-master/, and install the package from the command line:\n",
    "\n",
    "    python setup.py install\n",
    "\n",
    "This makes the package available to Python. At any other place in a system with the same python installation, dynamic_stock_model is now ready to be imported simply by\n",
    "\n",
    "    import dynamic_stock_model\n",
    "\n",
    "This setup also allows us to run the unit test:\n",
    "\n",
    "    import unittest\n",
    "\n",
    "    import dynamic_stock_model\n",
    "\n",
    "    import dynamic_stock_model.tests\n",
    "\n",
    "    unittest.main(dynamic_stock_model.tests, verbosity=2)\n",
    "\n",
    "Or, to run a specific test\n",
    "\n",
    "    unittest.main(dynamic_stock_model.tests.test_known_results, verbosity=2)\n"
   ]
  },
  {
   "cell_type": "markdown",
   "metadata": {},
   "source": [
    "#### c) Manual installation, by modifying the python path"
   ]
  },
  {
   "cell_type": "markdown",
   "metadata": {},
   "source": [
    "Pull package via git pull or download as .zip file and unpack. Choose a convenient location (Here: 'C:\\MyPythonPackages\\'). \n",
    "The folder with the class is called dynamic\\_stock\\_model-master, and there is another folder named pydsm inside. The latter one contains the actual class, you can see this from the presence of \\_\\_init\\_\\_.py \n",
    "Then the class needs to be imported. This can be done by adding the path of the class file dynamic_stock_model.py to the system path, and to import the class from there:"
   ]
  },
  {
   "cell_type": "code",
   "execution_count": 1,
   "metadata": {
    "collapsed": false
   },
   "outputs": [],
   "source": [
    "import sys\n",
    "sys.path.append('C:\\\\MyPythonPackages\\\\dynamic_stock_model-master\\\\dynamic_stock_model\\\\') "
   ]
  },
  {
   "cell_type": "markdown",
   "metadata": {},
   "source": [
    "Just put your own path in the command above, and use \\\\ for subfolders. Again, the paths needs to point to the folder where the \\_\\_init\\_\\_.py is located.\n",
    "Now, the class can be imported:"
   ]
  },
  {
   "cell_type": "code",
   "execution_count": 2,
   "metadata": {
    "collapsed": false
   },
   "outputs": [],
   "source": [
    "from dynamic_stock_model import DynamicStockModel"
   ]
  },
  {
   "cell_type": "markdown",
   "metadata": {},
   "source": [
    "Now, the class is ready to use. \n",
    "\n",
    "### Tutorial for simple inflow-driven model and stock-driven model\n",
    "\n",
    "Below a combination of inflow-driven and stock-driven modelling is demonstraded. For this tutorial the steel stock of China is estimated from historic data on final steel consumption (1900-2008) and then extrapolated with an exogenous saturation scenario (2009-2100)\n",
    "\n",
    "### 1. Load and check data"
   ]
  },
  {
   "cell_type": "code",
   "execution_count": 3,
   "metadata": {
    "collapsed": false
   },
   "outputs": [
    {
     "name": "stdout",
     "output_type": "stream",
     "text": [
      "[1900, 1901, 1902, 1903, 1904, 1905, 1906, 1907, 1908, 1909, 1910, 1911, 1912, 1913, 1914, 1915, 1916, 1917, 1918, 1919, 1920, 1921, 1922, 1923, 1924, 1925, 1926, 1927, 1928, 1929, 1930, 1931, 1932, 1933, 1934, 1935, 1936, 1937, 1938, 1939, 1940, 1941, 1942, 1943, 1944, 1945, 1946, 1947, 1948, 1949, 1950, 1951, 1952, 1953, 1954, 1955, 1956, 1957, 1958, 1959, 1960, 1961, 1962, 1963, 1964, 1965, 1966, 1967, 1968, 1969, 1970, 1971, 1972, 1973, 1974, 1975, 1976, 1977, 1978, 1979, 1980, 1981, 1982, 1983, 1984, 1985, 1986, 1987, 1988, 1989, 1990, 1991, 1992, 1993, 1994, 1995, 1996, 1997, 1998, 1999, 2000, 2001, 2002, 2003, 2004, 2005, 2006, 2007, 2008]\n",
      "[3807600.0, 4275750.0, 4770570.0, 5287100.0, 5819790.0, 6362750.0, 6909990.0, 7455650.0, 7994100.0, 8520230.0, 9029470.0, 9517980.0, 9982660.0, 10421200.0, 10832000.0, 11214100.0, 11567200.0, 11891500.0, 12187600.0, 12456400.0, 12699100.0, 12917200.0, 13112000.0, 13285100.0, 13438000.0, 13572400.0, 13689600.0, 13791100.0, 13878200.0, 13952200.0, 14014200.0, 14065400.0, 14106600.0, 14138900.0, 14163000.0, 14179600.0, 14189500.0, 14193300.0, 14191500.0, 14184600.0, 14173100.0, 14157400.0, 14137700.0, 14114600.0, 14088200.0, 14058900.0, 14026800.0, 13992300.0, 13955400.0, 13916500.0, 13875600.0, 13833000.0, 13788800.0, 13743100.0, 13696000.0, 13647700.0, 13598200.0, 13547800.0, 13496400.0, 13444300.0, 13391400.0, 13337800.0, 13283800.0, 13229200.0, 13174300.0, 13119000.0, 13063600.0, 13007900.0, 12952200.0, 12896500.0, 12840900.0, 12785300.0, 12730000.0, 12675000.0, 12620300.0, 12566000.0, 12512200.0, 12458900.0, 12406300.0, 12354300.0, 12303000.0, 12252600.0, 12203100.0, 12154400.0, 12106800.0, 12060300.0, 12014900.0, 11970700.0, 11927800.0, 11886200.0, 11846000.0, 11807200.0]\n"
     ]
    }
   ],
   "source": [
    "import xlrd\n",
    "\n",
    "DSM_Datafile  = xlrd.open_workbook('IEooc_Methods3_Software1_Data.xlsx')\n",
    "DSM_Datasheet = DSM_Datafile.sheet_by_name('Data_Steel_China')\n",
    "Historic_Years = [] #years 1900 to 2008\n",
    "Historic_Inflow = [] # apparent final steel consumption, China, kt/yr\n",
    "Future_Years = [] # years 2009-2100\n",
    "Future_Stock = [] # future scenario for the steel stock, China, kt\n",
    "for m in range(2,111): # Read historic data\n",
    "    Historic_Years.append(int(DSM_Datasheet.cell_value(m,2)))\n",
    "    Historic_Inflow.append(DSM_Datasheet.cell_value(m,3))\n",
    "\n",
    "for m in range(2,94): # Read future scenario\n",
    "    Future_Years.append(int(DSM_Datasheet.cell_value(m,8)))\n",
    "    Future_Stock.append(DSM_Datasheet.cell_value(m,9))\n",
    "\n",
    "print(Historic_Years)\n",
    "\n",
    "print(Future_Stock)"
   ]
  },
  {
   "cell_type": "markdown",
   "metadata": {},
   "source": [
    "### 2. Inflow-driven model 1900-2008\n",
    "With these data we can now define a dynamic stock model by creating an instance of the DynamicStockModel class and assigning time, inflow, and lifetime. For the average product lifetime we chose a normally distributed lifetime with the mean of 30 years and a standard deviation of 30% of the mean."
   ]
  },
  {
   "cell_type": "code",
   "execution_count": 4,
   "metadata": {
    "collapsed": false
   },
   "outputs": [],
   "source": [
    "import numpy as np\n",
    "AvgLifetime = 30\n",
    "China_DSM = DynamicStockModel(t = np.array(Historic_Years), i = np.array(Historic_Inflow), lt = {'Type': 'Normal', 'Mean': np.array([AvgLifetime]), 'StdDev': np.array([0.3*AvgLifetime]) })"
   ]
  },
  {
   "cell_type": "markdown",
   "metadata": {},
   "source": [
    "Let's check the attributes of the object we just defined:"
   ]
  },
  {
   "cell_type": "code",
   "execution_count": 5,
   "metadata": {
    "collapsed": false
   },
   "outputs": [
    {
     "data": {
      "text/plain": [
       "array([1900, 1901, 1902, 1903, 1904, 1905, 1906, 1907, 1908, 1909, 1910,\n",
       "       1911, 1912, 1913, 1914, 1915, 1916, 1917, 1918, 1919, 1920, 1921,\n",
       "       1922, 1923, 1924, 1925, 1926, 1927, 1928, 1929, 1930, 1931, 1932,\n",
       "       1933, 1934, 1935, 1936, 1937, 1938, 1939, 1940, 1941, 1942, 1943,\n",
       "       1944, 1945, 1946, 1947, 1948, 1949, 1950, 1951, 1952, 1953, 1954,\n",
       "       1955, 1956, 1957, 1958, 1959, 1960, 1961, 1962, 1963, 1964, 1965,\n",
       "       1966, 1967, 1968, 1969, 1970, 1971, 1972, 1973, 1974, 1975, 1976,\n",
       "       1977, 1978, 1979, 1980, 1981, 1982, 1983, 1984, 1985, 1986, 1987,\n",
       "       1988, 1989, 1990, 1991, 1992, 1993, 1994, 1995, 1996, 1997, 1998,\n",
       "       1999, 2000, 2001, 2002, 2003, 2004, 2005, 2006, 2007, 2008])"
      ]
     },
     "execution_count": 5,
     "metadata": {},
     "output_type": "execute_result"
    }
   ],
   "source": [
    "China_DSM.t"
   ]
  },
  {
   "cell_type": "code",
   "execution_count": 6,
   "metadata": {
    "collapsed": false
   },
   "outputs": [
    {
     "data": {
      "text/plain": [
       "array([  2.60000000e+01,   2.90000000e+01,   1.57635043e+01,\n",
       "         3.87423153e+01,   3.85723027e+01,   3.13569960e+01,\n",
       "         5.03099246e+01,   6.08170510e+01,   6.39341004e+01,\n",
       "         7.12607152e+01,   1.15607140e+02,   7.98376013e+01,\n",
       "         1.76963850e+02,   2.65406003e+02,   2.96802738e+02,\n",
       "         3.34266175e+02,   3.67457455e+02,   3.55308305e+02,\n",
       "         3.25261080e+02,   4.05685847e+02,   4.26032783e+02,\n",
       "         3.88683728e+02,   3.95394039e+02,   3.37818541e+02,\n",
       "         3.57777940e+02,   3.60627339e+02,   4.03735562e+02,\n",
       "         4.33759667e+02,   4.73848478e+02,   4.32905718e+02,\n",
       "         4.95383156e+02,   4.68038437e+02,   5.45120387e+02,\n",
       "         6.05852533e+02,   6.52001544e+02,   7.73483457e+02,\n",
       "         7.88729281e+02,   9.31200000e+02,   1.01870000e+03,\n",
       "         1.10065000e+03,   1.15630000e+03,   1.49618773e+03,\n",
       "         1.74098817e+03,   1.25485000e+03,   1.25135000e+03,\n",
       "         1.81106208e+02,   1.33018720e+02,   5.58006610e+02,\n",
       "         1.39678488e+02,   2.38562648e+02,   9.47795186e+02,\n",
       "         1.40500000e+03,   1.86250000e+03,   2.14150000e+03,\n",
       "         2.98672136e+03,   3.71501969e+03,   4.60650000e+03,\n",
       "         5.67250000e+03,   1.32432083e+04,   2.11482490e+04,\n",
       "         2.61510405e+04,   1.23372048e+04,   7.69947905e+03,\n",
       "         7.05917197e+03,   8.67379885e+03,   1.10877274e+04,\n",
       "         1.42701723e+04,   1.03423057e+04,   9.35506030e+03,\n",
       "         1.35210882e+04,   1.78404250e+04,   2.20335891e+04,\n",
       "         2.43077566e+04,   2.69756831e+04,   2.27259115e+04,\n",
       "         2.66537940e+04,   2.49411171e+04,   2.77822261e+04,\n",
       "         3.98145903e+04,   4.07801718e+04,   3.96944572e+04,\n",
       "         3.41428385e+04,   3.61019876e+04,   4.30566553e+04,\n",
       "         4.81575625e+04,   5.74976156e+04,   6.02365275e+04,\n",
       "         6.14665655e+04,   5.81307400e+04,   6.02662152e+04,\n",
       "         5.95649811e+04,   6.29843687e+04,   7.63317546e+04,\n",
       "         1.04673284e+05,   1.02853910e+05,   9.40600123e+04,\n",
       "         1.07639704e+05,   1.11730807e+05,   1.21421204e+05,\n",
       "         1.34948773e+05,   1.27282901e+05,   1.49299957e+05,\n",
       "         1.74058905e+05,   2.20498543e+05,   2.38783995e+05,\n",
       "         3.05949348e+05,   3.41877191e+05,   4.01813399e+05,\n",
       "         3.93609806e+05])"
      ]
     },
     "execution_count": 6,
     "metadata": {},
     "output_type": "execute_result"
    }
   ],
   "source": [
    "China_DSM.i"
   ]
  },
  {
   "cell_type": "code",
   "execution_count": 7,
   "metadata": {
    "collapsed": false
   },
   "outputs": [
    {
     "data": {
      "text/plain": [
       "{'Mean': array([30, 30, 30, 30, 30, 30, 30, 30, 30, 30, 30, 30, 30, 30, 30, 30, 30,\n",
       "        30, 30, 30, 30, 30, 30, 30, 30, 30, 30, 30, 30, 30, 30, 30, 30, 30,\n",
       "        30, 30, 30, 30, 30, 30, 30, 30, 30, 30, 30, 30, 30, 30, 30, 30, 30,\n",
       "        30, 30, 30, 30, 30, 30, 30, 30, 30, 30, 30, 30, 30, 30, 30, 30, 30,\n",
       "        30, 30, 30, 30, 30, 30, 30, 30, 30, 30, 30, 30, 30, 30, 30, 30, 30,\n",
       "        30, 30, 30, 30, 30, 30, 30, 30, 30, 30, 30, 30, 30, 30, 30, 30, 30,\n",
       "        30, 30, 30, 30, 30, 30, 30]),\n",
       " 'StdDev': array([ 9.,  9.,  9.,  9.,  9.,  9.,  9.,  9.,  9.,  9.,  9.,  9.,  9.,\n",
       "         9.,  9.,  9.,  9.,  9.,  9.,  9.,  9.,  9.,  9.,  9.,  9.,  9.,\n",
       "         9.,  9.,  9.,  9.,  9.,  9.,  9.,  9.,  9.,  9.,  9.,  9.,  9.,\n",
       "         9.,  9.,  9.,  9.,  9.,  9.,  9.,  9.,  9.,  9.,  9.,  9.,  9.,\n",
       "         9.,  9.,  9.,  9.,  9.,  9.,  9.,  9.,  9.,  9.,  9.,  9.,  9.,\n",
       "         9.,  9.,  9.,  9.,  9.,  9.,  9.,  9.,  9.,  9.,  9.,  9.,  9.,\n",
       "         9.,  9.,  9.,  9.,  9.,  9.,  9.,  9.,  9.,  9.,  9.,  9.,  9.,\n",
       "         9.,  9.,  9.,  9.,  9.,  9.,  9.,  9.,  9.,  9.,  9.,  9.,  9.,\n",
       "         9.,  9.,  9.,  9.,  9.]),\n",
       " 'Type': 'Normal'}"
      ]
     },
     "execution_count": 7,
     "metadata": {},
     "output_type": "execute_result"
    }
   ],
   "source": [
    "China_DSM.lt"
   ]
  },
  {
   "cell_type": "markdown",
   "metadata": {},
   "source": [
    "Regarding the attribute lt, you can see that the class automatically expands the lifetime distribution parameters from scalar to vector. <br>\n",
    "At any time, we can determine a checkstring that describes the content of the TestDSM object:"
   ]
  },
  {
   "cell_type": "code",
   "execution_count": 8,
   "metadata": {
    "collapsed": false
   },
   "outputs": [
    {
     "name": "stdout",
     "output_type": "stream",
     "text": [
      "<br><b> Checking dimensions of dynamic stock model DSM.Time vector is present with 109 years.<br>Inflow vector is present with 109 years.<br>Total stock is not present.<br>Stock by cohorts is not present.<br>Total outflow is not present.<br>Outflow by cohorts is not present.<br>Lifetime distribution is present with type Normal and mean [30 30 30 30 30 30 30 30 30 30 30 30 30 30 30 30 30 30 30 30 30 30 30 30 30\n",
      " 30 30 30 30 30 30 30 30 30 30 30 30 30 30 30 30 30 30 30 30 30 30 30 30 30\n",
      " 30 30 30 30 30 30 30 30 30 30 30 30 30 30 30 30 30 30 30 30 30 30 30 30 30\n",
      " 30 30 30 30 30 30 30 30 30 30 30 30 30 30 30 30 30 30 30 30 30 30 30 30 30\n",
      " 30 30 30 30 30 30 30 30 30].<br>\n"
     ]
    }
   ],
   "source": [
    "CheckStr, ExitFlag = China_DSM.dimension_check()\n",
    "print(CheckStr)"
   ]
  },
  {
   "cell_type": "markdown",
   "metadata": {},
   "source": [
    "The check string comes in simple html format to be included in html logfiles. <br>\n",
    "Now, we compute the stock s(t,t') of age-cohort t' in year t as\n",
    "$$s(t,t') = i(t')\\cdot(1-\\sum_{t''=0}^{t-t'}\\lambda(t'')) $$\n",
    "Here, $\\lambda(t'')$ is the probability function of discard at age $t''$. It is determined using the lifetime distribution type specified above. The full model is docomented here: http://pubs.acs.org/doi/suppl/10.1021/es201904c/suppl_file/es201904c_si_001.pdf <br>\n",
    "The result is the stock, broken down by age-cohort:"
   ]
  },
  {
   "cell_type": "code",
   "execution_count": 9,
   "metadata": {
    "collapsed": false
   },
   "outputs": [
    {
     "name": "stdout",
     "output_type": "stream",
     "text": [
      "[[  2.60000000e+01   0.00000000e+00   0.00000000e+00 ...,   0.00000000e+00\n",
      "    0.00000000e+00   0.00000000e+00]\n",
      " [  2.59935870e+01   2.90000000e+01   0.00000000e+00 ...,   0.00000000e+00\n",
      "    0.00000000e+00   0.00000000e+00]\n",
      " [  2.59844696e+01   2.89928470e+01   1.57635043e+01 ...,   0.00000000e+00\n",
      "    0.00000000e+00   0.00000000e+00]\n",
      " ..., \n",
      " [  1.35205903e-02   1.50806584e-02   8.19738013e-03 ...,   3.41877191e+05\n",
      "    0.00000000e+00   0.00000000e+00]\n",
      " [  1.35205903e-02   1.50806584e-02   8.19738013e-03 ...,   3.41792865e+05\n",
      "    4.01813399e+05   0.00000000e+00]\n",
      " [  1.35205903e-02   1.50806584e-02   8.19738013e-03 ...,   3.41672980e+05\n",
      "    4.01714290e+05   3.93609806e+05]]\n",
      "(109, 109)\n"
     ]
    }
   ],
   "source": [
    "Stock_by_cohort, ExitFlag = China_DSM.compute_s_c_inflow_driven()\n",
    "print(Stock_by_cohort)\n",
    "print(Stock_by_cohort.shape)"
   ]
  },
  {
   "cell_type": "markdown",
   "metadata": {},
   "source": [
    "The dimension of the stock is 109x109. The row index is the model year, the column index is the age-cohort. <br>\n",
    "The __'ExitFlag'__ parameter indicates the termination state of the method that was just called, here: compute_s_c_inflow_driven(). If everything went allright, the ExitFlag equals 1. If a problem occurred, the ExitFlag will have a different value, which indicates the source of the problem. To find out what exactly went wrong you need to open the class file pydsm.py and check the comments for the code for the method that just failed to produce a result. <br>\n",
    "We continue by computing the total stock, the outflow by age-cohort, the total outflow, and the stock change:"
   ]
  },
  {
   "cell_type": "code",
   "execution_count": 10,
   "metadata": {
    "collapsed": false
   },
   "outputs": [
    {
     "name": "stdout",
     "output_type": "stream",
     "text": [
      "[  2.60000000e+01   5.49935870e+01   7.07408209e+01   1.09456276e+02\n",
      "   1.47981456e+02   1.79263454e+02   2.29462216e+02   2.90114932e+02\n",
      "   3.53811219e+02   4.24736271e+02   5.39878072e+02   6.19071644e+02\n",
      "   7.95170186e+02   1.05940632e+03   1.35463141e+03   1.68679686e+03\n",
      "   2.05148800e+03   2.40319217e+03   2.72381502e+03   3.12360074e+03\n",
      "   3.54217846e+03   3.92152128e+03   4.30531869e+03   4.62885205e+03\n",
      "   4.96918030e+03   5.30864322e+03   5.68689132e+03   6.09016166e+03\n",
      "   6.52778110e+03   6.91792009e+03   7.36316787e+03   7.77280909e+03\n",
      "   8.25036478e+03   8.77854049e+03   9.34180531e+03   1.00145575e+04\n",
      "   1.06896349e+04   1.14933978e+04   1.23700381e+04   1.33132403e+04\n",
      "   1.42960096e+04   1.56019678e+04   1.71354129e+04   1.81648496e+04\n",
      "   1.91725587e+04   1.90913862e+04   1.89433470e+04   1.92012131e+04\n",
      "   1.90212438e+04   1.89203662e+04   1.95085076e+04   2.05330127e+04\n",
      "   2.19934921e+04   2.37106535e+04   2.62498617e+04   2.94931114e+04\n",
      "   3.36023998e+04   3.87508973e+04   5.14417713e+04   7.20060176e+04\n",
      "   9.75370530e+04   1.09213364e+05   1.16209417e+05   1.22518834e+05\n",
      "   1.30391079e+05   1.40618212e+05   1.53959632e+05   1.63293641e+05\n",
      "   1.71548719e+05   1.83863139e+05   2.00371414e+05   2.20925413e+05\n",
      "   2.43580921e+05   2.68703616e+05   2.89344536e+05   3.13648859e+05\n",
      "   3.35939662e+05   3.60733698e+05   3.97183109e+05   4.34179039e+05\n",
      "   4.69629835e+05   4.99030103e+05   5.29853257e+05   5.67057506e+05\n",
      "   6.08752074e+05   6.59140568e+05   7.11586110e+05   7.64545594e+05\n",
      "   8.13418975e+05   8.63643501e+05   9.12345665e+05   9.63607322e+05\n",
      "   1.02731351e+06   1.11840877e+06   1.20667318e+06   1.28507266e+06\n",
      "   1.37591699e+06   1.46964303e+06   1.57177070e+06   1.68605013e+06\n",
      "   1.79119328e+06   1.91678676e+06   2.06546399e+06   2.25878915e+06\n",
      "   2.46847805e+06   2.74327629e+06   3.05178967e+06   3.41786071e+06\n",
      "   3.77316052e+06]\n"
     ]
    }
   ],
   "source": [
    "S, ExitFlag   = China_DSM.compute_stock_total()\n",
    "print(S)"
   ]
  },
  {
   "cell_type": "code",
   "execution_count": 11,
   "metadata": {
    "collapsed": false
   },
   "outputs": [
    {
     "name": "stdout",
     "output_type": "stream",
     "text": [
      "[[  0.00000000e+00   0.00000000e+00   0.00000000e+00 ...,   0.00000000e+00\n",
      "    0.00000000e+00   0.00000000e+00]\n",
      " [  6.41302246e-03   0.00000000e+00   0.00000000e+00 ...,   0.00000000e+00\n",
      "    0.00000000e+00   0.00000000e+00]\n",
      " [  9.11738047e-03   7.15298659e-03   0.00000000e+00 ...,   0.00000000e+00\n",
      "    0.00000000e+00   0.00000000e+00]\n",
      " ..., \n",
      " [  0.00000000e+00   0.00000000e+00   1.75033599e-15 ...,   0.00000000e+00\n",
      "    0.00000000e+00   0.00000000e+00]\n",
      " [  0.00000000e+00   0.00000000e+00   0.00000000e+00 ...,   8.43256193e+01\n",
      "    0.00000000e+00   0.00000000e+00]\n",
      " [  0.00000000e+00   0.00000000e+00   0.00000000e+00 ...,   1.19885555e+02\n",
      "    9.91091673e+01   0.00000000e+00]]\n"
     ]
    }
   ],
   "source": [
    "O_C, ExitFlag = China_DSM.compute_o_c_from_s_c()\n",
    "print(O_C)"
   ]
  },
  {
   "cell_type": "code",
   "execution_count": 12,
   "metadata": {
    "collapsed": false
   },
   "outputs": [
    {
     "name": "stdout",
     "output_type": "stream",
     "text": [
      "[  0.00000000e+00   6.41302246e-03   1.62703671e-02   2.68606461e-02\n",
      "   4.71223714e-02   7.49982700e-02   1.11162634e-01   1.64334172e-01\n",
      "   2.37814047e-01   3.35662752e-01   4.65339326e-01   6.44029428e-01\n",
      "   8.65307778e-01   1.16986868e+00   1.57765088e+00   2.10071940e+00\n",
      "   2.76632077e+00   3.60412695e+00   4.63823854e+00   5.90012516e+00\n",
      "   7.45506164e+00   9.34090781e+00   1.15966307e+01   1.42851768e+01\n",
      "   1.74496969e+01   2.11644102e+01   2.54874633e+01   3.04893301e+01\n",
      "   3.62290361e+01   4.27667355e+01   5.01353677e+01   5.83972183e+01\n",
      "   6.75646986e+01   7.76768223e+01   8.87367255e+01   1.00731247e+02\n",
      "   1.13651902e+02   1.27437110e+02   1.42059724e+02   1.57447813e+02\n",
      "   1.73530632e+02   1.90229578e+02   2.07543016e+02   2.25413352e+02\n",
      "   2.43640838e+02   2.62278706e+02   2.81057914e+02   3.00140536e+02\n",
      "   3.19647787e+02   3.39440233e+02   3.59653850e+02   3.80494862e+02\n",
      "   4.02020639e+02   4.24338587e+02   4.47513122e+02   4.71769984e+02\n",
      "   4.97211603e+02   5.24002483e+02   5.52334400e+02   5.84002687e+02\n",
      "   6.20005152e+02   6.60893949e+02   7.03426367e+02   7.49754210e+02\n",
      "   8.01554013e+02   8.60594205e+02   9.28752253e+02   1.00829706e+03\n",
      "   1.09998212e+03   1.20666875e+03   1.33214933e+03   1.47959027e+03\n",
      "   1.65224918e+03   1.85298733e+03   2.08499216e+03   2.34947022e+03\n",
      "   2.65031475e+03   2.98818948e+03   3.36518015e+03   3.78424082e+03\n",
      "   4.24366136e+03   4.74257092e+03   5.27883324e+03   5.85240615e+03\n",
      "   6.46299472e+03   7.10912155e+03   7.79098554e+03   8.50708204e+03\n",
      "   9.25735886e+03   1.00416894e+04   1.08628169e+04   1.17227113e+04\n",
      "   1.26255685e+04   1.35780202e+04   1.45894989e+04   1.56605381e+04\n",
      "   1.67953693e+04   1.80047689e+04   1.92935377e+04   2.06693412e+04\n",
      "   2.21397510e+04   2.37064769e+04   2.53816761e+04   2.71733846e+04\n",
      "   2.90950931e+04   3.11511101e+04   3.33638026e+04   3.57423582e+04\n",
      "   3.83100047e+04]\n"
     ]
    }
   ],
   "source": [
    "O, ExitFlag   = China_DSM.compute_outflow_total()\n",
    "print(O)"
   ]
  },
  {
   "cell_type": "code",
   "execution_count": 13,
   "metadata": {
    "collapsed": false
   },
   "outputs": [
    {
     "name": "stdout",
     "output_type": "stream",
     "text": [
      "[  2.60000000e+01   2.89935870e+01   1.57472339e+01   3.87154546e+01\n",
      "   3.85251803e+01   3.12819978e+01   5.01987620e+01   6.06527168e+01\n",
      "   6.36962864e+01   7.09250525e+01   1.15141800e+02   7.91935719e+01\n",
      "   1.76098542e+02   2.64236134e+02   2.95225087e+02   3.32165455e+02\n",
      "   3.64691135e+02   3.51704178e+02   3.20622841e+02   3.99785722e+02\n",
      "   4.18577721e+02   3.79342820e+02   3.83797409e+02   3.23533364e+02\n",
      "   3.40328243e+02   3.39462929e+02   3.78248099e+02   4.03270337e+02\n",
      "   4.37619442e+02   3.90138983e+02   4.45247788e+02   4.09641219e+02\n",
      "   4.77555688e+02   5.28175711e+02   5.63264819e+02   6.72752210e+02\n",
      "   6.75077379e+02   8.03762890e+02   8.76640276e+02   9.43202187e+02\n",
      "   9.82769368e+02   1.30595815e+03   1.53344515e+03   1.02943665e+03\n",
      "   1.00770916e+03  -8.11724980e+01  -1.48039195e+02   2.57866074e+02\n",
      "  -1.79969299e+02  -1.00877585e+02   5.88141336e+02   1.02450514e+03\n",
      "   1.46047936e+03   1.71716141e+03   2.53920824e+03   3.24324971e+03\n",
      "   4.10928840e+03   5.14849752e+03   1.26908739e+04   2.05642463e+04\n",
      "   2.55310354e+04   1.16763109e+04   6.99605268e+03   6.30941776e+03\n",
      "   7.87224484e+03   1.02271332e+04   1.33414200e+04   9.33400863e+03\n",
      "   8.25507818e+03   1.23144195e+04   1.65082756e+04   2.05539988e+04\n",
      "   2.26555074e+04   2.51226958e+04   2.06409194e+04   2.43043237e+04\n",
      "   2.22908023e+04   2.47940366e+04   3.64494102e+04   3.69959310e+04\n",
      "   3.54507958e+04   2.94002676e+04   3.08231544e+04   3.72042491e+04\n",
      "   4.16945678e+04   5.03884941e+04   5.24455420e+04   5.29594835e+04\n",
      "   4.88733812e+04   5.02245258e+04   4.87021642e+04   5.12616574e+04\n",
      "   6.37061861e+04   9.10952636e+04   8.82644111e+04   7.83994742e+04\n",
      "   9.08443350e+04   9.37260385e+04   1.02127666e+05   1.14279432e+05\n",
      "   1.05143150e+05   1.25593480e+05   1.48677228e+05   1.93325158e+05\n",
      "   2.09688902e+05   2.74798238e+05   3.08513388e+05   3.66071040e+05\n",
      "   3.55299802e+05]\n"
     ]
    }
   ],
   "source": [
    "DS, ExitFlag  = China_DSM.compute_stock_change()\n",
    "print(DS)"
   ]
  },
  {
   "cell_type": "markdown",
   "metadata": {},
   "source": [
    "Now the dynamic stock is fully determined: Both stock and outflow are broken down by age-cohort and as total. We can make a final check by printing the dimension check and by computing the stock balance:"
   ]
  },
  {
   "cell_type": "code",
   "execution_count": 14,
   "metadata": {
    "collapsed": false
   },
   "outputs": [
    {
     "name": "stdout",
     "output_type": "stream",
     "text": [
      "<br><b> Checking dimensions of dynamic stock model DSM.Time vector is present with 109 years.<br>Inflow vector is present with 109 years.<br>Total stock is present with 109 years.<br>Stock by cohorts is present with 109 years and 109 cohorts.<br>Total outflow is present with 109 years.<br>Outflow by cohorts is present with 109 years and 109 cohorts.<br>Lifetime distribution is present with type Normal and mean [30 30 30 30 30 30 30 30 30 30 30 30 30 30 30 30 30 30 30 30 30 30 30 30 30\n",
      " 30 30 30 30 30 30 30 30 30 30 30 30 30 30 30 30 30 30 30 30 30 30 30 30 30\n",
      " 30 30 30 30 30 30 30 30 30 30 30 30 30 30 30 30 30 30 30 30 30 30 30 30 30\n",
      " 30 30 30 30 30 30 30 30 30 30 30 30 30 30 30 30 30 30 30 30 30 30 30 30 30\n",
      " 30 30 30 30 30 30 30 30 30].<br>\n"
     ]
    }
   ],
   "source": [
    "print(China_DSM.dimension_check()[0]) # dimension_check returns two variables, but we only print the first one, which has index 0."
   ]
  },
  {
   "cell_type": "code",
   "execution_count": 15,
   "metadata": {
    "collapsed": false
   },
   "outputs": [
    {
     "name": "stdout",
     "output_type": "stream",
     "text": [
      "[  0.00000000e+00   0.00000000e+00  -7.10542736e-15   7.10542736e-15\n",
      "  -7.10542736e-15  -7.10542736e-15   1.42108547e-14   0.00000000e+00\n",
      "   3.55271368e-14  -4.26325641e-14  -7.10542736e-14   2.84217094e-14\n",
      "   2.84217094e-14   1.13686838e-13  -1.13686838e-13   1.13686838e-13\n",
      "  -4.54747351e-13   5.11590770e-13  -1.13686838e-13   5.68434189e-14\n",
      "  -1.70530257e-13  -3.97903932e-13   1.13686838e-13  -1.70530257e-13\n",
      "   7.95807864e-13   2.27373675e-13  -5.68434189e-14  -5.68434189e-13\n",
      "  -1.13686838e-13   1.70530257e-13   3.97903932e-13  -2.27373675e-13\n",
      "   4.54747351e-13   3.41060513e-13  -1.25055521e-12  -1.02318154e-12\n",
      "   2.04636308e-12  -1.81898940e-12   7.95807864e-13   6.82121026e-13\n",
      "   0.00000000e+00   2.27373675e-13  -1.81898940e-12  -1.13686838e-12\n",
      "   9.09494702e-13   7.38964445e-13   8.24229573e-13  -2.89901436e-12\n",
      "   2.84217094e-12   7.38964445e-13  -2.50111043e-12   0.00000000e+00\n",
      "   2.72848411e-12   0.00000000e+00   2.27373675e-12  -2.72848411e-12\n",
      "  -4.54747351e-12   9.09494702e-12  -3.63797881e-12  -7.27595761e-12\n",
      "   7.27595761e-12  -1.09139364e-11   4.54747351e-12   9.09494702e-13\n",
      "  -4.54747351e-12   1.81898940e-11   3.63797881e-12  -2.00088834e-11\n",
      "   2.18278728e-11  -1.45519152e-11  -1.45519152e-11   2.18278728e-11\n",
      "  -1.09139364e-11   7.27595761e-12   7.27595761e-12  -2.91038305e-11\n",
      "  -7.27595761e-12   7.27595761e-12   5.09317033e-11  -5.09317033e-11\n",
      "   4.36557457e-11  -1.45519152e-11  -4.72937245e-11   1.45519152e-11\n",
      "  -7.27595761e-12   0.00000000e+00  -6.54836185e-11   4.36557457e-11\n",
      "   2.18278728e-11  -7.27595761e-11   5.09317033e-11  -3.63797881e-11\n",
      "   2.25554686e-10  -2.32830644e-10   2.47382559e-10  -2.18278728e-10\n",
      "   1.16415322e-10  -4.36557457e-11  -2.91038305e-11   2.91038305e-11\n",
      "   7.27595761e-11  -7.27595761e-11   0.00000000e+00  -1.16415322e-10\n",
      "   1.74622983e-10   5.82076609e-11   0.00000000e+00   1.16415322e-10\n",
      "  -2.32830644e-10]\n"
     ]
    }
   ],
   "source": [
    "Bal, ExitFlag = China_DSM.check_stock_balance()\n",
    "print(Bal)"
   ]
  },
  {
   "cell_type": "markdown",
   "metadata": {},
   "source": [
    "Let's make a few plots to see what happened:"
   ]
  },
  {
   "cell_type": "code",
   "execution_count": 16,
   "metadata": {
    "collapsed": false
   },
   "outputs": [
    {
     "data": {
      "image/png": "[encoded data removed]",
      "text/plain": [
       "<matplotlib.figure.Figure at 0x4707dce208>"
      ]
     },
     "metadata": {},
     "output_type": "display_data"
    }
   ],
   "source": [
    "%matplotlib inline\n",
    "# this is only for the IPython notebook, not part of the python script!\n",
    "\n",
    "import matplotlib.pyplot as plt\n",
    "plt.imshow(China_DSM.s_c, interpolation='nearest')\n",
    "plt.xlabel('age-cohort')\n",
    "plt.ylabel('year')\n",
    "plt.title('Stock by age-cohort')\n",
    "plt.show();"
   ]
  },
  {
   "cell_type": "markdown",
   "metadata": {},
   "source": [
    "In the upper plot the upper triangle is always empty, as there are no age-cohorts from the future present in the stock. Since the stock is growing rapidly, the youngest age-cohorts dominate, and these are shown in the lower right corner of the plot."
   ]
  },
  {
   "cell_type": "code",
   "execution_count": 17,
   "metadata": {
    "collapsed": false
   },
   "outputs": [
    {
     "data": {
      "image/png": "[encoded data removed]",
      "text/plain": [
       "<matplotlib.figure.Figure at 0x4709e3f630>"
      ]
     },
     "metadata": {},
     "output_type": "display_data"
    }
   ],
   "source": [
    "plt.imshow(China_DSM.o_c,interpolation='nearest')\n",
    "plt.xlabel('age-cohort')\n",
    "plt.ylabel('year')\n",
    "plt.title('Outflow by age-cohort')\n",
    "plt.show();"
   ]
  },
  {
   "cell_type": "markdown",
   "metadata": {},
   "source": [
    "Above the age-cohorts that contribute most to the outflows around 2008 are those between age-cohorts 80 and 90 (1980-1990)\n",
    "\n",
    "### 3. stock-driven model (2009-2100)"
   ]
  },
  {
   "cell_type": "markdown",
   "metadata": {},
   "source": [
    "In stock-driven modelling, only the stock is known at first, and we want to know the inflow, the outflow, and the cohort structure of both stock and outflow. The DynamicStockModel class can do that. \n",
    "\n",
    "Here we not only have to solve the stock-driven model for future years but also take into account the stock as a result of historic consumption 1900-2008. There are several ways to do that (https://github.com/stefanpauliuk/dynamic_stock_model), and here we take a more elegant approach: We apply stock-driven modelling to the entire time series, starting from 1900, and concatenating the historic result and the future scenario. As the stock-driven model is the inverse operation of the flow-driven model the resulting inflow for the time 1900-2008 will be identical to the supplied input data provided that the exact same lifetime distribution is used."
   ]
  },
  {
   "cell_type": "code",
   "execution_count": 18,
   "metadata": {
    "collapsed": false
   },
   "outputs": [
    {
     "name": "stdout",
     "output_type": "stream",
     "text": [
      "<br><b> Checking dimensions of dynamic stock model DSM.Time vector is present with 201 years.<br>Inflow is not present.<br>Total stock is present with 201 years.<br>Stock by cohorts is not present.<br>Total outflow is not present.<br>Outflow by cohorts is not present.<br>Lifetime distribution is present with type Normal and mean [30 30 30 30 30 30 30 30 30 30 30 30 30 30 30 30 30 30 30 30 30 30 30 30 30\n",
      " 30 30 30 30 30 30 30 30 30 30 30 30 30 30 30 30 30 30 30 30 30 30 30 30 30\n",
      " 30 30 30 30 30 30 30 30 30 30 30 30 30 30 30 30 30 30 30 30 30 30 30 30 30\n",
      " 30 30 30 30 30 30 30 30 30 30 30 30 30 30 30 30 30 30 30 30 30 30 30 30 30\n",
      " 30 30 30 30 30 30 30 30 30 30 30 30 30 30 30 30 30 30 30 30 30 30 30 30 30\n",
      " 30 30 30 30 30 30 30 30 30 30 30 30 30 30 30 30 30 30 30 30 30 30 30 30 30\n",
      " 30 30 30 30 30 30 30 30 30 30 30 30 30 30 30 30 30 30 30 30 30 30 30 30 30\n",
      " 30 30 30 30 30 30 30 30 30 30 30 30 30 30 30 30 30 30 30 30 30 30 30 30 30\n",
      " 30].<br>\n"
     ]
    }
   ],
   "source": [
    "China_Stock_Full = np.concatenate((S,Future_Stock), axis =0)\n",
    "Time_Full        = np.concatenate((np.array(Historic_Years),np.array(Future_Years)), axis =0)\n",
    "\n",
    "China_DSM_Full = DynamicStockModel(t = Time_Full, s = China_Stock_Full, lt = {'Type': 'Normal', 'Mean': np.array([AvgLifetime]), 'StdDev': np.array([0.3*AvgLifetime]) })\n",
    "CheckStr, ExitFlag = China_DSM_Full.dimension_check()\n",
    "print(CheckStr)"
   ]
  },
  {
   "cell_type": "markdown",
   "metadata": {},
   "source": [
    "As above, we now call a sequence of methods to find all the missing information in the stock model. The central method for stock-driven modelling is __compute_stock_driven_model()__, which contains a recursive calculation starting from the fist year to determine outflow, inflow, and stock by cohorts using the lifetime model and the mass balance. The model is documented here:\n",
    "http://pubs.acs.org/doi/suppl/10.1021/es201904c/suppl_file/es201904c_si_001.pdf"
   ]
  },
  {
   "cell_type": "code",
   "execution_count": 19,
   "metadata": {
    "collapsed": false
   },
   "outputs": [
    {
     "name": "stdout",
     "output_type": "stream",
     "text": [
      "[  0.00000000e+00   0.00000000e+00   0.00000000e+00   0.00000000e+00\n",
      "   0.00000000e+00  -1.77635684e-14   4.26325641e-14  -2.13162821e-14\n",
      "   1.42108547e-14   0.00000000e+00  -2.84217094e-14   1.42108547e-14\n",
      "   2.84217094e-14   0.00000000e+00  -5.68434189e-14  -5.68434189e-14\n",
      "   5.68434189e-14   0.00000000e+00  -1.70530257e-13   1.13686838e-13\n",
      "   5.68434189e-14   1.13686838e-13  -1.70530257e-13  -6.25277607e-13\n",
      "   9.09494702e-13  -8.52651283e-13   5.11590770e-13  -2.84217094e-13\n",
      "  -4.54747351e-13   1.08002496e-12   5.68434189e-13  -1.02318154e-12\n",
      "  -3.41060513e-13   0.00000000e+00  -9.09494702e-13   1.70530257e-12\n",
      "  -1.02318154e-12   6.82121026e-13  -3.41060513e-13   1.13686838e-13\n",
      "  -6.82121026e-13   0.00000000e+00  -2.27373675e-13   9.09494702e-13\n",
      "  -3.41060513e-13   1.25055521e-12  -2.16004992e-12   2.95585778e-12\n",
      "   2.84217094e-13   5.11590770e-13  -5.11590770e-12   0.00000000e+00\n",
      "   3.18323146e-12  -4.54747351e-13  -1.81898940e-12   1.36424205e-12\n",
      "  -9.09494702e-13   1.81898940e-12  -3.63797881e-12  -3.63797881e-12\n",
      "   3.63797881e-12   1.45519152e-11  -1.27329258e-11   7.27595761e-12\n",
      "   2.72848411e-12  -1.81898940e-12  -5.45696821e-12   1.81898940e-11\n",
      "  -3.45607987e-11   1.09139364e-11   7.27595761e-12   3.63797881e-12\n",
      "  -4.00177669e-11   4.36557457e-11   0.00000000e+00   3.63797881e-12\n",
      "   0.00000000e+00  -1.09139364e-11   0.00000000e+00   1.45519152e-11\n",
      "   7.27595761e-12  -2.54658516e-11  -2.54658516e-11   7.27595761e-11\n",
      "   1.45519152e-11  -8.73114914e-11  -4.36557457e-11   6.54836185e-11\n",
      "   3.63797881e-11  -3.63797881e-11   1.67347025e-10  -1.30967237e-10\n",
      "  -5.09317033e-11  -2.91038305e-11   1.89174898e-10  -7.27595761e-11\n",
      "  -5.82076609e-11   1.89174898e-10  -1.74622983e-10   1.45519152e-10\n",
      "  -2.18278728e-10   5.82076609e-11  -5.82076609e-11   1.16415322e-10\n",
      "  -4.36557457e-10  -5.82076609e-11   4.65661287e-10   1.16415322e-10\n",
      "  -2.91038305e-10   4.22005542e-10  -2.32830644e-10  -6.40284270e-10\n",
      "   6.98491931e-10  -1.16415322e-10   5.82076609e-10   3.49245965e-10\n",
      "   1.16415322e-10  -1.51339918e-09   6.98491931e-10   1.74622983e-10\n",
      "  -1.22236088e-09   1.16415322e-09   6.98491931e-10   4.07453626e-10\n",
      "  -1.97906047e-09   1.04773790e-09   1.68802217e-09  -1.80443749e-09\n",
      "  -1.16415322e-10   8.73114914e-11  -2.38651410e-09   2.56113708e-09\n",
      "  -7.56699592e-10  -5.23868948e-10  -2.15368345e-09   3.20142135e-09\n",
      "   5.23868948e-10  -5.82076609e-10   1.33877620e-09  -3.78349796e-09\n",
      "   2.09547579e-09   8.73114914e-10  -2.32830644e-10  -4.65661287e-10\n",
      "   7.56699592e-10  -4.07453626e-10  -1.74622983e-10   5.82076609e-11\n",
      "   9.31322575e-10  -1.74622983e-10  -3.25962901e-09   1.68802217e-09\n",
      "  -3.49245965e-10  -4.65661287e-10   4.65661287e-10   1.57160684e-09\n",
      "  -1.51339918e-09   1.45519152e-09   1.74622983e-10  -4.65661287e-10\n",
      "  -1.80443749e-09   2.44472176e-09  -1.57160684e-09   1.74622983e-10\n",
      "  -2.91038305e-10   8.73114914e-10  -7.56699592e-10  -1.39698386e-09\n",
      "   1.04773790e-09  -1.22236088e-09   4.24915925e-09  -3.84170562e-09\n",
      "   3.25962901e-09  -3.43425199e-09   1.33877620e-09  -1.16415322e-10\n",
      "   9.31322575e-10  -6.40284270e-10   4.65661287e-10   5.23868948e-10\n",
      "  -1.22236088e-09  -2.32830644e-10   1.74622983e-10   3.49245965e-10\n",
      "   0.00000000e+00   6.40284270e-10   1.16415322e-10  -1.22236088e-09\n",
      "   1.57160684e-09  -2.09547579e-09   2.27009878e-09  -2.27009878e-09\n",
      "   1.16415322e-10   3.08500603e-09  -2.73576006e-09   1.51339918e-09\n",
      "  -2.91038305e-10   6.98491931e-10  -5.82076609e-10  -1.45519152e-09\n",
      "   1.86264515e-09]\n"
     ]
    }
   ],
   "source": [
    "S_C, O_C, I, ExitFlag = China_DSM_Full.compute_stock_driven_model()\n",
    "O, ExitFlag   = China_DSM_Full.compute_outflow_total()\n",
    "DS, ExitFlag  = China_DSM_Full.compute_stock_change()\n",
    "Bal, ExitFlag = China_DSM_Full.check_stock_balance()\n",
    "print(Bal)"
   ]
  },
  {
   "cell_type": "markdown",
   "metadata": {},
   "source": [
    "Well, let's have a look at the result!\n",
    "\n",
    "Below we plot stocks and flows on one axis by looking at the annual quantity represented by the flows (kt/yr --> kt for one year)."
   ]
  },
  {
   "cell_type": "code",
   "execution_count": 20,
   "metadata": {
    "collapsed": false
   },
   "outputs": [
    {
     "data": {
      "image/png": "[encoded data removed]",
      "text/plain": [
       "<matplotlib.figure.Figure at 0x470bae05c0>"
      ]
     },
     "metadata": {},
     "output_type": "display_data"
    }
   ],
   "source": [
    "plt1, = plt.plot(China_DSM_Full.t, China_DSM_Full.i)\n",
    "plt2, = plt.plot(China_DSM_Full.t, China_DSM_Full.s)\n",
    "plt3, = plt.plot(China_DSM_Full.t, China_DSM_Full.o)\n",
    "plt4, = plt.plot([2008,2008],[0,2e7], color = 'k', LineStyle = '--')\n",
    "plt.xlabel('Year')\n",
    "plt.ylabel('tons')\n",
    "plt.title('Stock parameters')\n",
    "plt.legend([plt1,plt2,plt3], ['Inflow','Stock','Outflow'], loc = 2)\n",
    "plt.show();"
   ]
  },
  {
   "cell_type": "markdown",
   "metadata": {},
   "source": [
    "We can see that the inflow of steel peaks around 2020, which is around the inflection point of the exogenous stock curve. The ditch in the inflow in 2009 is not a consequence of the economic crisis at that time but a result of the slight mismatch between the historic time series and the future scenario, as both were taken from different versions of the database when building this exercise. The outflow of steel peaks later, shortly after the steek stock itself will have peaked around 2040."
   ]
  },
  {
   "cell_type": "code",
   "execution_count": 21,
   "metadata": {
    "collapsed": false
   },
   "outputs": [
    {
     "data": {
      "image/png": "[encoded data removed]",
      "text/plain": [
       "<matplotlib.figure.Figure at 0x470ba30240>"
      ]
     },
     "metadata": {},
     "output_type": "display_data"
    }
   ],
   "source": [
    "plt.imshow(China_DSM_Full.s_c,interpolation='nearest')\n",
    "plt.xlabel('age-cohort')\n",
    "plt.ylabel('year')\n",
    "plt.title('Stock by age-cohort')\n",
    "plt.show();"
   ]
  },
  {
   "cell_type": "code",
   "execution_count": 22,
   "metadata": {
    "collapsed": false
   },
   "outputs": [
    {
     "data": {
      "image/png": "[encoded data removed]",
      "text/plain": [
       "<matplotlib.figure.Figure at 0x470ba62f98>"
      ]
     },
     "metadata": {},
     "output_type": "display_data"
    }
   ],
   "source": [
    "plt.imshow(China_DSM_Full.o_c,interpolation='nearest')\n",
    "plt.xlabel('age-cohort')\n",
    "plt.ylabel('year')\n",
    "plt.title('Outflow by age-cohort')\n",
    "plt.show();"
   ]
  },
  {
   "cell_type": "markdown",
   "metadata": {},
   "source": [
    "We also need to check whether the model was able to reprodue the historic inflow:"
   ]
  },
  {
   "cell_type": "code",
   "execution_count": 23,
   "metadata": {
    "collapsed": false
   },
   "outputs": [
    {
     "name": "stdout",
     "output_type": "stream",
     "text": [
      "[  0.00000000e+00   0.00000000e+00   7.10542736e-15  -7.10542736e-15\n",
      "   1.42108547e-14  -7.10542736e-15   2.13162821e-14  -2.13162821e-14\n",
      "  -1.42108547e-14   4.26325641e-14   1.42108547e-14  -1.42108547e-14\n",
      "   0.00000000e+00  -5.68434189e-14   5.68434189e-14  -1.70530257e-13\n",
      "   4.54747351e-13  -5.11590770e-13   0.00000000e+00   0.00000000e+00\n",
      "   2.27373675e-13   5.11590770e-13  -2.27373675e-13  -3.97903932e-13\n",
      "   0.00000000e+00  -1.08002496e-12   5.11590770e-13   4.54747351e-13\n",
      "  -5.11590770e-13   9.66338121e-13   1.70530257e-13  -9.09494702e-13\n",
      "  -6.82121026e-13  -3.41060513e-13   4.54747351e-13   2.61479727e-12\n",
      "  -3.06954462e-12   2.50111043e-12  -1.13686838e-12  -4.54747351e-13\n",
      "  -6.82121026e-13  -2.27373675e-13   1.59161573e-12   2.27373675e-12\n",
      "  -1.36424205e-12   5.11590770e-13  -3.15480975e-12   6.02540240e-12\n",
      "  -2.44426701e-12  -2.84217094e-13  -3.06954462e-12   0.00000000e+00\n",
      "   0.00000000e+00   0.00000000e+00  -4.09272616e-12   4.54747351e-12\n",
      "   3.63797881e-12  -7.27595761e-12   0.00000000e+00   3.63797881e-12\n",
      "  -7.27595761e-12   2.54658516e-11  -1.45519152e-11   3.63797881e-12\n",
      "   7.27595761e-12  -1.81898940e-11  -1.09139364e-11   3.81987775e-11\n",
      "  -5.27506927e-11   2.18278728e-11   2.18278728e-11  -1.81898940e-11\n",
      "  -2.91038305e-11   4.36557457e-11  -1.45519152e-11   3.27418093e-11\n",
      "   7.27595761e-12  -1.45519152e-11  -5.09317033e-11   6.54836185e-11\n",
      "  -4.36557457e-11   0.00000000e+00   1.45519152e-11   5.82076609e-11\n",
      "   2.18278728e-11  -8.73114914e-11   7.27595761e-12   2.18278728e-11\n",
      "   2.18278728e-11   4.36557457e-11   1.09139364e-10  -9.45874490e-11\n",
      "  -2.61934474e-10   1.89174898e-10  -4.36557457e-11   1.45519152e-10\n",
      "  -2.03726813e-10   2.61934474e-10  -1.74622983e-10   1.16415322e-10\n",
      "  -3.05590220e-10   1.16415322e-10  -2.91038305e-11   2.32830644e-10\n",
      "  -6.40284270e-10  -1.16415322e-10   5.23868948e-10  -5.82076609e-11\n",
      "   0.00000000e+00]\n",
      "4.50543069519e-09\n"
     ]
    }
   ],
   "source": [
    "FlowBal = China_DSM_Full.i[0:109] - Historic_Inflow\n",
    "print(FlowBal)\n",
    "print(np.abs(FlowBal).sum())"
   ]
  },
  {
   "cell_type": "markdown",
   "metadata": {},
   "source": [
    "This calculation confirms that the model works correctly. With the same lifetime distribution the historic apparent steel consumption is reproduced, and the difference between the two inflow time series (the original historic data and the re-calculated one from the stock-driven model) is practically zero."
   ]
  }
 ],
 "metadata": {
  "kernelspec": {
   "display_name": "Python 3",
   "language": "python",
   "name": "python3"
  },
  "language_info": {
   "codemirror_mode": {
    "name": "ipython",
    "version": 3
   },
   "file_extension": ".py",
   "mimetype": "text/x-python",
   "name": "python",
   "nbconvert_exporter": "python",
   "pygments_lexer": "ipython3",
   "version": "3.5.3"
  }
 },
 "nbformat": 4,
 "nbformat_minor": 0
}
