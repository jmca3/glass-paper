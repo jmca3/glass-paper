{
 "cells": [
  {
   "cell_type": "code",
   "execution_count": 1,
   "metadata": {},
   "outputs": [],
   "source": [
    "from floweaver import *\n",
    "import pandas as pd\n",
    "import numpy as np"
   ]
  },
  {
   "cell_type": "code",
   "execution_count": 2,
   "metadata": {},
   "outputs": [],
   "source": [
    "flows = pd.read_excel('../data/glass_paper.xlsx', sheet_name='Flows', usecols = ['source', 'target', 'type', 'value'])\n",
    "dataset = Dataset(flows)"
   ]
  },
  {
   "cell_type": "code",
   "execution_count": 3,
   "metadata": {},
   "outputs": [
    {
     "data": {
      "application/vnd.jupyter.widget-view+json": {
       "model_id": "85eb248df7444978858cfc0588e4187f",
       "version_major": 2,
       "version_minor": 0
      },
      "text/plain": [
       "SankeyWidget(groups=[{'id': 'RME', 'type': 'process', 'title': 'Raw material extraction', 'nodes': ['RME^Silic…"
      ]
     },
     "metadata": {},
     "output_type": "display_data"
    }
   ],
   "source": [
    "nodes = {\n",
    "    # Raw materials\n",
    "    \"RME\": ProcessGroup([\"RM\"], Partition.Simple(\"type\", ['Silica', 'Limestone', 'Soda Ash',]), \n",
    "                        title = 'Raw material extraction'),\n",
    "     \n",
    "    # Glass melting\n",
    "    \"FGM\": ProcessGroup([\"FGM\"], title = 'Flat glass melting'),\n",
    "    \"CGM\": ProcessGroup([\"CGM\"], title = 'Container glass melting'),\n",
    "    \"emissions\": ProcessGroup([\"loss1\", \"loss2\"], title = 'Process emissions'),\n",
    "    \n",
    "    # Glass forming\n",
    "    \"FGF\": ProcessGroup([\"FGF\"], title = 'Flat glass forming'),\n",
    "    \"CGF\": ProcessGroup([\"CGF\"], title = 'Container glass forming'),\n",
    "   \n",
    "    # Glass use\n",
    "    \"FGU\": ProcessGroup([\"FGU\"], Partition.Simple(\"type\", \n",
    "                                                  ['Buildings', 'Automotive', 'Other FG',]), \n",
    "                        title = 'Use of flat glass'),\n",
    "    \n",
    "    \"CGU\": ProcessGroup([\"CGU\"], Partition.Simple(\"type\", \n",
    "                                                  ['Beverages', 'Food', 'Other CG',]), \n",
    "                        title = 'Use of containers'),\n",
    "    \n",
    "    # End of life\n",
    "    \"EoL\": ProcessGroup([\"EoL\"], Partition.Simple(\"type\", \n",
    "                                                  ['Buildings', 'Automotive', 'Other FG',] + \n",
    "                                                  ['Beverages', 'Food', 'Other CG',]), \n",
    "                                                  title = 'Disposal'),\n",
    "        \n",
    "    'scrap1': Waypoint(title='', direction='L'),\n",
    "    'scrap2': Waypoint(title='', direction='L'),\n",
    "    'scrap3': Waypoint(title='', direction='L'),\n",
    "\n",
    "}\n",
    "\n",
    "bundles = [\n",
    "    Bundle(\"RME\", \"FGM\"),\n",
    "    Bundle(\"RME\", \"CGM\"),\n",
    "    \n",
    "    Bundle(\"FGM\", \"FGF\"),\n",
    "    Bundle(\"CGM\", \"CGF\"),\n",
    "        \n",
    "    Bundle(\"FGM\", \"emissions\"),\n",
    "    Bundle(\"CGM\", \"emissions\"),\n",
    "    \n",
    "    Bundle(\"CGF\", \"CGU\"),\n",
    "    Bundle(\"CGF\", \"CGM\", waypoints = ['scrap2']),\n",
    "\n",
    "    Bundle(\"FGF\", \"FGU\"),\n",
    "    Bundle(\"FGF\", \"FGM\", waypoints = ['scrap1']),\n",
    "    \n",
    "    Bundle(\"CGU\", \"CGM\", waypoints = ['scrap3']),\n",
    "    \n",
    "    Bundle(\"FGU\", \"EoL\"),\n",
    "    Bundle(\"CGU\", \"EoL\"),\n",
    "]\n",
    "\n",
    "ordering = [\n",
    "    [[],            [\"RME\"],                                     ],\n",
    "    [[],            [\"FGM\", 'scrap1', \"CGM\", 'scrap2', 'scrap3'],],\n",
    "    [['emissions'], [\"FGF\", \"CGF\"],                              ],\n",
    "    [[],            ['FGU', \"CGU\"],                              ],\n",
    "    [[],            ['EoL', ],                                   ],\n",
    "]\n",
    "\n",
    "flow_partition = Partition.Simple(\"type\",\n",
    "        np.unique(flows['type'].to_list())\n",
    "    )\n",
    "\n",
    "sdd = SankeyDefinition(nodes, bundles, ordering, flow_partition = flow_partition)\n",
    "weave(sdd, dataset, palette='Paired_12').to_widget(width=1150, height = 600).auto_save_svg('../outputs/global_glass_sankey.svg')"
   ]
  }
 ],
 "metadata": {
  "kernelspec": {
   "display_name": "Python 3",
   "language": "python",
   "name": "python3"
  },
  "language_info": {
   "codemirror_mode": {
    "name": "ipython",
    "version": 3
   },
   "file_extension": ".py",
   "mimetype": "text/x-python",
   "name": "python",
   "nbconvert_exporter": "python",
   "pygments_lexer": "ipython3",
   "version": "3.7.4"
  }
 },
 "nbformat": 4,
 "nbformat_minor": 2
}
